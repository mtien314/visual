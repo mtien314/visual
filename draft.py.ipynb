{
 "cells": [
  {
   "cell_type": "code",
   "id": "initial_id",
   "metadata": {
    "collapsed": true,
    "ExecuteTime": {
     "end_time": "2025-01-16T10:21:45.465568Z",
     "start_time": "2025-01-16T10:21:41.924909Z"
    }
   },
   "source": [
    "import pandas as pd\n",
    "\n",
    "df = pd.read_csv(\"prep_fifa.csv\")\n",
    "df.head()"
   ],
   "outputs": [
    {
     "data": {
      "text/plain": [
       "   Unnamed: 0               Name  Age Nationality  Overall  Potential  \\\n",
       "0           0           L. Messi   31   Argentina       94         94   \n",
       "1           1  Cristiano Ronaldo   33    Portugal       94         94   \n",
       "2           2          Neymar Jr   26      Brazil       92         93   \n",
       "3           3             De Gea   27       Spain       91         93   \n",
       "4           4       K. De Bruyne   27     Belgium       91         92   \n",
       "\n",
       "                  Club   Value  Wage Preferred Foot  ...  Composure  Marking  \\\n",
       "0         FC Barcelona  110500   565           Left  ...         96       33   \n",
       "1             Juventus   77000   405          Right  ...         95       28   \n",
       "2  Paris Saint-Germain  118500   290          Right  ...         94       27   \n",
       "3    Manchester United   72000   260          Right  ...         68       15   \n",
       "4      Manchester City  102000   355          Right  ...         88       68   \n",
       "\n",
       "   StandingTackle SlidingTackle GKDiving GKHandling GKKicking GKPositioning  \\\n",
       "0              28            26        6         11        15            14   \n",
       "1              31            23        7         11        15            14   \n",
       "2              24            33        9          9        15            15   \n",
       "3              21            13       90         85        87            88   \n",
       "4              58            51       15         13         5            10   \n",
       "\n",
       "  GKReflexes  Release Clause  \n",
       "0          8        226500.0  \n",
       "1         11        127100.0  \n",
       "2         11        228100.0  \n",
       "3         94        138600.0  \n",
       "4         13        196400.0  \n",
       "\n",
       "[5 rows x 56 columns]"
      ],
      "text/html": [
       "<div>\n",
       "<style scoped>\n",
       "    .dataframe tbody tr th:only-of-type {\n",
       "        vertical-align: middle;\n",
       "    }\n",
       "\n",
       "    .dataframe tbody tr th {\n",
       "        vertical-align: top;\n",
       "    }\n",
       "\n",
       "    .dataframe thead th {\n",
       "        text-align: right;\n",
       "    }\n",
       "</style>\n",
       "<table border=\"1\" class=\"dataframe\">\n",
       "  <thead>\n",
       "    <tr style=\"text-align: right;\">\n",
       "      <th></th>\n",
       "      <th>Unnamed: 0</th>\n",
       "      <th>Name</th>\n",
       "      <th>Age</th>\n",
       "      <th>Nationality</th>\n",
       "      <th>Overall</th>\n",
       "      <th>Potential</th>\n",
       "      <th>Club</th>\n",
       "      <th>Value</th>\n",
       "      <th>Wage</th>\n",
       "      <th>Preferred Foot</th>\n",
       "      <th>...</th>\n",
       "      <th>Composure</th>\n",
       "      <th>Marking</th>\n",
       "      <th>StandingTackle</th>\n",
       "      <th>SlidingTackle</th>\n",
       "      <th>GKDiving</th>\n",
       "      <th>GKHandling</th>\n",
       "      <th>GKKicking</th>\n",
       "      <th>GKPositioning</th>\n",
       "      <th>GKReflexes</th>\n",
       "      <th>Release Clause</th>\n",
       "    </tr>\n",
       "  </thead>\n",
       "  <tbody>\n",
       "    <tr>\n",
       "      <th>0</th>\n",
       "      <td>0</td>\n",
       "      <td>L. Messi</td>\n",
       "      <td>31</td>\n",
       "      <td>Argentina</td>\n",
       "      <td>94</td>\n",
       "      <td>94</td>\n",
       "      <td>FC Barcelona</td>\n",
       "      <td>110500</td>\n",
       "      <td>565</td>\n",
       "      <td>Left</td>\n",
       "      <td>...</td>\n",
       "      <td>96</td>\n",
       "      <td>33</td>\n",
       "      <td>28</td>\n",
       "      <td>26</td>\n",
       "      <td>6</td>\n",
       "      <td>11</td>\n",
       "      <td>15</td>\n",
       "      <td>14</td>\n",
       "      <td>8</td>\n",
       "      <td>226500.0</td>\n",
       "    </tr>\n",
       "    <tr>\n",
       "      <th>1</th>\n",
       "      <td>1</td>\n",
       "      <td>Cristiano Ronaldo</td>\n",
       "      <td>33</td>\n",
       "      <td>Portugal</td>\n",
       "      <td>94</td>\n",
       "      <td>94</td>\n",
       "      <td>Juventus</td>\n",
       "      <td>77000</td>\n",
       "      <td>405</td>\n",
       "      <td>Right</td>\n",
       "      <td>...</td>\n",
       "      <td>95</td>\n",
       "      <td>28</td>\n",
       "      <td>31</td>\n",
       "      <td>23</td>\n",
       "      <td>7</td>\n",
       "      <td>11</td>\n",
       "      <td>15</td>\n",
       "      <td>14</td>\n",
       "      <td>11</td>\n",
       "      <td>127100.0</td>\n",
       "    </tr>\n",
       "    <tr>\n",
       "      <th>2</th>\n",
       "      <td>2</td>\n",
       "      <td>Neymar Jr</td>\n",
       "      <td>26</td>\n",
       "      <td>Brazil</td>\n",
       "      <td>92</td>\n",
       "      <td>93</td>\n",
       "      <td>Paris Saint-Germain</td>\n",
       "      <td>118500</td>\n",
       "      <td>290</td>\n",
       "      <td>Right</td>\n",
       "      <td>...</td>\n",
       "      <td>94</td>\n",
       "      <td>27</td>\n",
       "      <td>24</td>\n",
       "      <td>33</td>\n",
       "      <td>9</td>\n",
       "      <td>9</td>\n",
       "      <td>15</td>\n",
       "      <td>15</td>\n",
       "      <td>11</td>\n",
       "      <td>228100.0</td>\n",
       "    </tr>\n",
       "    <tr>\n",
       "      <th>3</th>\n",
       "      <td>3</td>\n",
       "      <td>De Gea</td>\n",
       "      <td>27</td>\n",
       "      <td>Spain</td>\n",
       "      <td>91</td>\n",
       "      <td>93</td>\n",
       "      <td>Manchester United</td>\n",
       "      <td>72000</td>\n",
       "      <td>260</td>\n",
       "      <td>Right</td>\n",
       "      <td>...</td>\n",
       "      <td>68</td>\n",
       "      <td>15</td>\n",
       "      <td>21</td>\n",
       "      <td>13</td>\n",
       "      <td>90</td>\n",
       "      <td>85</td>\n",
       "      <td>87</td>\n",
       "      <td>88</td>\n",
       "      <td>94</td>\n",
       "      <td>138600.0</td>\n",
       "    </tr>\n",
       "    <tr>\n",
       "      <th>4</th>\n",
       "      <td>4</td>\n",
       "      <td>K. De Bruyne</td>\n",
       "      <td>27</td>\n",
       "      <td>Belgium</td>\n",
       "      <td>91</td>\n",
       "      <td>92</td>\n",
       "      <td>Manchester City</td>\n",
       "      <td>102000</td>\n",
       "      <td>355</td>\n",
       "      <td>Right</td>\n",
       "      <td>...</td>\n",
       "      <td>88</td>\n",
       "      <td>68</td>\n",
       "      <td>58</td>\n",
       "      <td>51</td>\n",
       "      <td>15</td>\n",
       "      <td>13</td>\n",
       "      <td>5</td>\n",
       "      <td>10</td>\n",
       "      <td>13</td>\n",
       "      <td>196400.0</td>\n",
       "    </tr>\n",
       "  </tbody>\n",
       "</table>\n",
       "<p>5 rows × 56 columns</p>\n",
       "</div>"
      ]
     },
     "execution_count": 1,
     "metadata": {},
     "output_type": "execute_result"
    }
   ],
   "execution_count": 1
  },
  {
   "metadata": {
    "ExecuteTime": {
     "end_time": "2025-01-16T10:42:03.250011Z",
     "start_time": "2025-01-16T10:42:03.242598Z"
    }
   },
   "cell_type": "code",
   "source": "df['Nationality']",
   "id": "2369bd94224c58d",
   "outputs": [
    {
     "data": {
      "text/plain": [
       "0        Argentina\n",
       "1         Portugal\n",
       "2           Brazil\n",
       "3            Spain\n",
       "4          Belgium\n",
       "           ...    \n",
       "18154      England\n",
       "18155       Sweden\n",
       "18156      England\n",
       "18157      England\n",
       "18158      England\n",
       "Name: Nationality, Length: 18159, dtype: object"
      ]
     },
     "execution_count": 6,
     "metadata": {},
     "output_type": "execute_result"
    }
   ],
   "execution_count": 6
  },
  {
   "metadata": {
    "ExecuteTime": {
     "end_time": "2025-01-16T10:49:12.859780Z",
     "start_time": "2025-01-16T10:49:12.850713Z"
    }
   },
   "cell_type": "code",
   "source": "df['Name']",
   "id": "441f2573660eb269",
   "outputs": [
    {
     "data": {
      "text/plain": [
       "0                  L. Messi\n",
       "1         Cristiano Ronaldo\n",
       "2                 Neymar Jr\n",
       "3                    De Gea\n",
       "4              K. De Bruyne\n",
       "                ...        \n",
       "18154          J. Lundstram\n",
       "18155    N. Christoffersson\n",
       "18156             B. Worman\n",
       "18157        D. Walker-Rice\n",
       "18158             G. Nugent\n",
       "Name: Name, Length: 18159, dtype: object"
      ]
     },
     "execution_count": 7,
     "metadata": {},
     "output_type": "execute_result"
    }
   ],
   "execution_count": 7
  },
  {
   "metadata": {
    "ExecuteTime": {
     "end_time": "2025-01-16T10:27:28.843170Z",
     "start_time": "2025-01-16T10:27:28.834415Z"
    }
   },
   "cell_type": "code",
   "source": "df['Position']",
   "id": "9844ccfc3db7229f",
   "outputs": [
    {
     "data": {
      "text/plain": [
       "0         RF\n",
       "1         ST\n",
       "2         LW\n",
       "3         GK\n",
       "4        RCM\n",
       "        ... \n",
       "18154     CM\n",
       "18155     ST\n",
       "18156     ST\n",
       "18157     RW\n",
       "18158     CM\n",
       "Name: Position, Length: 18159, dtype: object"
      ]
     },
     "execution_count": 2,
     "metadata": {},
     "output_type": "execute_result"
    }
   ],
   "execution_count": 2
  },
  {
   "metadata": {
    "ExecuteTime": {
     "end_time": "2025-01-16T10:35:32.762512Z",
     "start_time": "2025-01-16T10:35:32.753887Z"
    }
   },
   "cell_type": "code",
   "source": "df['Body Type']",
   "id": "45cd700e656d7909",
   "outputs": [
    {
     "data": {
      "text/plain": [
       "0             Messi\n",
       "1        C. Ronaldo\n",
       "2            Neymar\n",
       "3              Lean\n",
       "4            Normal\n",
       "            ...    \n",
       "18154          Lean\n",
       "18155        Normal\n",
       "18156        Normal\n",
       "18157          Lean\n",
       "18158          Lean\n",
       "Name: Body Type, Length: 18159, dtype: object"
      ]
     },
     "execution_count": 3,
     "metadata": {},
     "output_type": "execute_result"
    }
   ],
   "execution_count": 3
  },
  {
   "metadata": {
    "ExecuteTime": {
     "end_time": "2025-01-16T10:36:47.054337Z",
     "start_time": "2025-01-16T10:36:47.043550Z"
    }
   },
   "cell_type": "code",
   "source": "df['Preferred Foot']",
   "id": "8ede219c254b508b",
   "outputs": [
    {
     "data": {
      "text/plain": [
       "0         Left\n",
       "1        Right\n",
       "2        Right\n",
       "3        Right\n",
       "4        Right\n",
       "         ...  \n",
       "18154    Right\n",
       "18155    Right\n",
       "18156    Right\n",
       "18157    Right\n",
       "18158    Right\n",
       "Name: Preferred Foot, Length: 18159, dtype: object"
      ]
     },
     "execution_count": 4,
     "metadata": {},
     "output_type": "execute_result"
    }
   ],
   "execution_count": 4
  },
  {
   "metadata": {
    "ExecuteTime": {
     "end_time": "2025-01-16T10:40:33.506540Z",
     "start_time": "2025-01-16T10:40:33.499388Z"
    }
   },
   "cell_type": "code",
   "source": "df['Body Type']",
   "id": "5bf8c996736ad3a0",
   "outputs": [
    {
     "data": {
      "text/plain": [
       "0             Messi\n",
       "1        C. Ronaldo\n",
       "2            Neymar\n",
       "3              Lean\n",
       "4            Normal\n",
       "            ...    \n",
       "18154          Lean\n",
       "18155        Normal\n",
       "18156        Normal\n",
       "18157          Lean\n",
       "18158          Lean\n",
       "Name: Body Type, Length: 18159, dtype: object"
      ]
     },
     "execution_count": 5,
     "metadata": {},
     "output_type": "execute_result"
    }
   ],
   "execution_count": 5
  },
  {
   "metadata": {},
   "cell_type": "code",
   "outputs": [],
   "execution_count": null,
   "source": "",
   "id": "6fc33cceea86f63a"
  }
 ],
 "metadata": {
  "kernelspec": {
   "display_name": "Python 3",
   "language": "python",
   "name": "python3"
  },
  "language_info": {
   "codemirror_mode": {
    "name": "ipython",
    "version": 2
   },
   "file_extension": ".py",
   "mimetype": "text/x-python",
   "name": "python",
   "nbconvert_exporter": "python",
   "pygments_lexer": "ipython2",
   "version": "2.7.6"
  }
 },
 "nbformat": 4,
 "nbformat_minor": 5
}
